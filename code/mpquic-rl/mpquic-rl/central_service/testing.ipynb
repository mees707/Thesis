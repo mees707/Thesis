{
 "cells": [
  {
   "cell_type": "code",
   "execution_count": null,
   "metadata": {},
   "outputs": [],
   "source": [
    "import os\n",
    "\n",
    "# Specify the directory containing your custom modules\n",
    "custom_module_path = \"\"\n",
    "\n",
    "# Get the current value of PYTHONPATH (if any)\n",
    "existing_pythonpath = os.environ.get(\"PYTHONPATH\", \"\")\n",
    "\n",
    "# Append your custom module path to PYTHONPATH\n",
    "os.environ[\"PYTHONPATH\"] = f\"{custom_module_path}:{existing_pythonpath}\"\n",
    "\n",
    "# Now Python will search for modules in the specified directory\n",
    "print(existing_pythonpath)"
   ]
  }
 ],
 "metadata": {
  "kernelspec": {
   "display_name": "mpquic",
   "language": "python",
   "name": "python3"
  },
  "language_info": {
   "name": "python",
   "version": "3.6.13"
  }
 },
 "nbformat": 4,
 "nbformat_minor": 2
}
