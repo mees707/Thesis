{
 "cells": [
  {
   "cell_type": "code",
   "execution_count": 1,
   "metadata": {},
   "outputs": [
    {
     "name": "stdout",
     "output_type": "stream",
     "text": [
      "Current path: /home/mees/Documents/GitHub/Thesis/code/mpquic-rl/central_service/environment\n"
     ]
    }
   ],
   "source": [
    "#temporary file to help debugging\n",
    "import os\n",
    "\n",
    "current_path = os.getcwd()\n",
    "print(\"Current path:\", current_path)\n"
   ]
  },
  {
   "cell_type": "code",
   "execution_count": 2,
   "metadata": {},
   "outputs": [
    {
     "name": "stdout",
     "output_type": "stream",
     "text": [
      "test_graphs.json\n",
      "experiences\n",
      "environment.py\n",
      "graphs.json\n",
      "debugging.ipynb\n",
      "topos.json\n",
      "split_data_test.py\n",
      "__pycache__\n",
      "generate_topos.py\n",
      "train_graphs.json\n",
      "count_objs.py\n"
     ]
    }
   ],
   "source": [
    "files_and_dirs = os.listdir()\n",
    "for item in files_and_dirs:\n",
    "    print(item)"
   ]
  },
  {
   "cell_type": "code",
   "execution_count": null,
   "metadata": {},
   "outputs": [],
   "source": []
  }
 ],
 "metadata": {
  "kernelspec": {
   "display_name": "mpquicrl",
   "language": "python",
   "name": "python3"
  },
  "language_info": {
   "codemirror_mode": {
    "name": "ipython",
    "version": 3
   },
   "file_extension": ".py",
   "mimetype": "text/x-python",
   "name": "python",
   "nbconvert_exporter": "python",
   "pygments_lexer": "ipython3",
   "version": "3.6.13"
  }
 },
 "nbformat": 4,
 "nbformat_minor": 2
}
